{
 "cells": [
  {
   "cell_type": "code",
   "execution_count": 1,
   "metadata": {},
   "outputs": [
    {
     "name": "stdout",
     "output_type": "stream",
     "text": [
      "Frames per second: 40\n",
      "Minimum frame duration: 6\n",
      "Text has 665 words\n",
      "Effective reading speed: 400.0 WPM\n",
      "Moviepy - Building video text_video.mp4.\n",
      "Moviepy - Writing video text_video.mp4\n",
      "\n"
     ]
    },
    {
     "name": "stderr",
     "output_type": "stream",
     "text": [
      "                                                                \r"
     ]
    },
    {
     "name": "stdout",
     "output_type": "stream",
     "text": [
      "Moviepy - Done !\n",
      "Moviepy - video ready text_video.mp4\n"
     ]
    }
   ],
   "source": [
    "\"\"\"\"\n",
    "REQUIREMENTS:\n",
    "-> Install moviepy / gizeh with pip install; If errors appear that tell you the library \"cairo\" is missing, see: https://www.csestack.org/macbook-m1-oserror-no-library-called-cairo-pango-was-found/\n",
    "-> Sources for moviepy / gizeh thatwordused to design the code\n",
    "https://www.stackbuilders.com/blog/python-video-generation/\n",
    "https://pypi.org/project/gizeh/\n",
    "\"\"\"\n",
    "\n",
    "import math\n",
    "from moviepy.editor import VideoClip\n",
    "import moviepy.editor as mpy\n",
    "import gizeh \n",
    "\n",
    "# Reading speed constants\n",
    "WPM = 400 # Target words per minute; effective speed will be lower (depending on language) due to upscaling of duration of longer words\n",
    "FPS = 40\n",
    "WPF = int(FPS / (WPM / 60)) # Words per frame\n",
    "MIN_FPS = WPF # Minimum duration each word should be displayed\n",
    "\n",
    "print(f\"Frames per second: {FPS}\")\n",
    "print(f\"Minimum frame duration: {MIN_FPS}\")\n",
    "\n",
    "# Style of video\n",
    "W = 640 # Width\n",
    "H = 640 # Height\n",
    "BACKGROUND_COLOR = (1, 1, 1) # Background color (gizeh format)\n",
    "TEXT_COLOR = (59/255, 89/255, 152/255) # Blue text color\n",
    "FONTSIZE = 45\n",
    "\n",
    "# Read sample text\n",
    "with open(\"input_text.txt\", \"r\") as file:\n",
    "    sample_text = file.read().replace(\"\\n\", \" \")\n",
    "\n",
    "# Generates final list with text to display\n",
    "word_list = sample_text.split()\n",
    "print(f\"Text has {len(word_list)} words\")\n",
    "# Determine for how many frames each word is displayed; more characters -> more frames\n",
    "word_duration_list = []\n",
    "\n",
    "for word in word_list:\n",
    "    # Get relative length of word\n",
    "    word_duration_list.append(MIN_FPS)\n",
    "\n",
    "# If a word needs to be displayed for more than 1 frame\n",
    "# The word index has to appear multiple times\n",
    "word_idx_list = []\n",
    "for idx, i in enumerate(word_duration_list):\n",
    "    word_idx_list = word_idx_list + [idx] * i\n",
    "\n",
    "\n",
    "# Get final duration of the clip\n",
    "duration = len(word_idx_list) / FPS  \n",
    "\n",
    "print(f\"Effective reading speed: {len(word_list)  / ((len(word_idx_list) / FPS) / 60)} WPM\")\n",
    "\n",
    "\n",
    "def make_frame(t):\n",
    "    \"\"\" returns a numpy array of the frame at time t \"\"\"\n",
    "    # Create canvas to draw words on\n",
    "    surface = gizeh.Surface(W,H, bg_color = BACKGROUND_COLOR)\n",
    "\n",
    "    # Get word index that should be displayed at time t\n",
    "    # One needs to specify the word list in dependence of the time\n",
    "    word_idx = word_idx_list[int(t * FPS)] \n",
    "\n",
    "    # Specifiy text for canvas\n",
    "    text = gizeh.text(\n",
    "        word_list[word_idx], fontfamily=\"Charter\",\n",
    "        fontsize=FONTSIZE, fontweight='bold', fill=TEXT_COLOR, xy=(int(W/2), int(H/2)))\n",
    "\n",
    "    # draw text on canvas\n",
    "    text.draw(surface)\n",
    "\n",
    "    # Return the final image as numpy array of the frame at time t\n",
    "    return surface.get_npimage()\n",
    "\n",
    "# Generate Video clip\n",
    "clip = VideoClip(make_frame).set_duration(duration)\n",
    "\n",
    "# Save video\n",
    "clip.write_videofile(\"text_video.mp4\", fps=FPS) # export as video"
   ]
  },
  {
   "cell_type": "code",
   "execution_count": null,
   "metadata": {},
   "outputs": [],
   "source": []
  }
 ],
 "metadata": {
  "kernelspec": {
   "display_name": "Python 3.9.6 64-bit",
   "language": "python",
   "name": "python3"
  },
  "language_info": {
   "codemirror_mode": {
    "name": "ipython",
    "version": 3
   },
   "file_extension": ".py",
   "mimetype": "text/x-python",
   "name": "python",
   "nbconvert_exporter": "python",
   "pygments_lexer": "ipython3",
   "version": "3.9.6"
  },
  "orig_nbformat": 4,
  "vscode": {
   "interpreter": {
    "hash": "31f2aee4e71d21fbe5cf8b01ff0e069b9275f58929596ceb00d14d90e3e16cd6"
   }
  }
 },
 "nbformat": 4,
 "nbformat_minor": 2
}
